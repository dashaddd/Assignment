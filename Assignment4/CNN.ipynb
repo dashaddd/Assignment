{
  "nbformat": 4,
  "nbformat_minor": 0,
  "metadata": {
    "kernelspec": {
      "display_name": "Python 3",
      "language": "python",
      "name": "python3"
    },
    "language_info": {
      "codemirror_mode": {
        "name": "ipython",
        "version": 3
      },
      "file_extension": ".py",
      "mimetype": "text/x-python",
      "name": "python",
      "nbconvert_exporter": "python",
      "pygments_lexer": "ipython3",
      "version": "3.7.3"
    },
    "colab": {
      "name": "Копия блокнота \"CNN.ipynb\"",
      "provenance": [],
      "collapsed_sections": []
    }
  },
  "cells": [
    {
      "cell_type": "markdown",
      "metadata": {
        "id": "ATEQ-G0oUjoW"
      },
      "source": [
        "# Задание 4.1 - Сверточные нейронные сети (Convolutional Neural Networks)\n",
        "\n",
        "Это последнее задание на numpy, вы до него дожили! Остался последний марш-бросок, дальше только PyTorch.\n",
        "\n",
        "В этом задании вы реализуете свою собственную сверточную нейронную сеть."
      ]
    },
    {
      "cell_type": "code",
      "metadata": {
        "pycharm": {
          "name": "#%%\n"
        },
        "id": "OGXOaaHpUjoZ",
        "colab": {
          "base_uri": "https://localhost:8080/"
        },
        "outputId": "abcd8a3e-ea49-4a37-bca4-991369279722"
      },
      "source": [
        "# Запустите эту ячейку если работаете в Colab\n",
        "import os\n",
        "if not os.path.exists('CNN.ipynb'):\n",
        "    !git clone https://github.com/dashaddd/Assignment.git\n",
        "%cd Assignment/Assignment4"
      ],
      "execution_count": 1,
      "outputs": [
        {
          "output_type": "stream",
          "text": [
            "Cloning into 'Assignment'...\n",
            "remote: Enumerating objects: 66, done.\u001b[K\n",
            "remote: Counting objects: 100% (66/66), done.\u001b[K\n",
            "remote: Compressing objects: 100% (62/62), done.\u001b[K\n",
            "remote: Total 66 (delta 21), reused 0 (delta 0), pack-reused 0\u001b[K\n",
            "Unpacking objects: 100% (66/66), done.\n",
            "/content/Assignment/Assignment4\n"
          ],
          "name": "stdout"
        }
      ]
    },
    {
      "cell_type": "code",
      "metadata": {
        "id": "fJ9dACYXZV_A",
        "colab": {
          "base_uri": "https://localhost:8080/"
        },
        "outputId": "2debeca9-ee59-476f-d863-a65c71ae075f"
      },
      "source": [
        "! wget -c http://ufldl.stanford.edu/housenumbers/train_32x32.mat http://ufldl.stanford.edu/housenumbers/test_32x32.mat\n",
        "%cd ../Assignment4"
      ],
      "execution_count": 2,
      "outputs": [
        {
          "output_type": "stream",
          "text": [
            "--2021-04-01 13:02:37--  http://ufldl.stanford.edu/housenumbers/train_32x32.mat\n",
            "Resolving ufldl.stanford.edu (ufldl.stanford.edu)... 171.64.68.10\n",
            "Connecting to ufldl.stanford.edu (ufldl.stanford.edu)|171.64.68.10|:80... connected.\n",
            "HTTP request sent, awaiting response... 200 OK\n",
            "Length: 182040794 (174M) [text/plain]\n",
            "Saving to: ‘train_32x32.mat’\n",
            "\n",
            "train_32x32.mat     100%[===================>] 173.61M  38.6MB/s    in 7.7s    \n",
            "\n",
            "2021-04-01 13:02:45 (22.5 MB/s) - ‘train_32x32.mat’ saved [182040794/182040794]\n",
            "\n",
            "--2021-04-01 13:02:45--  http://ufldl.stanford.edu/housenumbers/test_32x32.mat\n",
            "Reusing existing connection to ufldl.stanford.edu:80.\n",
            "HTTP request sent, awaiting response... 200 OK\n",
            "Length: 64275384 (61M) [text/plain]\n",
            "Saving to: ‘test_32x32.mat’\n",
            "\n",
            "test_32x32.mat      100%[===================>]  61.30M  39.8MB/s    in 1.5s    \n",
            "\n",
            "2021-04-01 13:02:47 (39.8 MB/s) - ‘test_32x32.mat’ saved [64275384/64275384]\n",
            "\n",
            "FINISHED --2021-04-01 13:02:47--\n",
            "Total wall clock time: 9.6s\n",
            "Downloaded: 2 files, 235M in 9.3s (25.4 MB/s)\n",
            "/content/Assignment/Assignment4\n"
          ],
          "name": "stdout"
        }
      ]
    },
    {
      "cell_type": "code",
      "metadata": {
        "id": "unI7SW1aUjoa"
      },
      "source": [
        "import numpy as np\n",
        "import matplotlib.pyplot as plt\n",
        "\n",
        "%matplotlib inline\n",
        "\n",
        "%load_ext autoreload\n",
        "%autoreload 2"
      ],
      "execution_count": 3,
      "outputs": []
    },
    {
      "cell_type": "code",
      "metadata": {
        "id": "jLIoKMYuUjoa"
      },
      "source": [
        "from dataset import load_svhn, random_split_train_val\n",
        "from gradient_check import check_layer_gradient, check_layer_param_gradient, check_model_gradient\n",
        "from layers import FullyConnectedLayer, ReLULayer, ConvolutionalLayer, MaxPoolingLayer, Flattener\n",
        "from model import ConvNet\n",
        "from trainer import Trainer, Dataset\n",
        "from optim import SGD, MomentumSGD\n",
        "from metrics import multiclass_accuracy"
      ],
      "execution_count": 4,
      "outputs": []
    },
    {
      "cell_type": "markdown",
      "metadata": {
        "id": "4QMBhQIOUjoa"
      },
      "source": [
        "# Загружаем данные\n",
        "\n",
        "На этот раз мы не будем их преобразовывать в один вектор, а оставим размерности (num_samples, 32, 32, 3)."
      ]
    },
    {
      "cell_type": "code",
      "metadata": {
        "id": "awU2Wo_RUjob"
      },
      "source": [
        "def prepare_for_neural_network(train_X, test_X):    \n",
        "    train_X = train_X.astype(np.float) / 255.0\n",
        "    test_X = test_X.astype(np.float) / 255.0\n",
        "    \n",
        "    # Subtract mean\n",
        "    mean_image = np.mean(train_X, axis = 0)\n",
        "    train_X -= mean_image\n",
        "    test_X -= mean_image\n",
        "    \n",
        "    return train_X, test_X\n",
        "    \n",
        "train_X, train_y, test_X, test_y = load_svhn(\"\", max_train=10000, max_test=1000)    \n",
        "train_X, test_X = prepare_for_neural_network(train_X, test_X)\n",
        "# Split train into train and val\n",
        "train_X, train_y, val_X, val_y = random_split_train_val(train_X, train_y, num_val = 1000)"
      ],
      "execution_count": 5,
      "outputs": []
    },
    {
      "cell_type": "markdown",
      "metadata": {
        "id": "QrJwOWQ5Ujob"
      },
      "source": [
        "## Линейная свертка последовательностей\n",
        "\n",
        "Для начала вспомним, что сверткой последовательностей называется такая последовательность, в которой каждый элемент есть сумма перемноженных элементов двух числовых последовательностей $x$ длиной $N_1$ и $h$ длиной $N_2$ таким образом, что члены одной последовательности берутся с возрастанием индексов, а члены другой — с убыванием.\n",
        "\n",
        "$y_n = \\sum\\limits_{m=0}^n h_m \\cdot x_{n-m}$\n",
        "\n",
        "Такой же результат получится, если одну из последовательностей не сдвигать, а дополнить нулями с двух сторон.  \n",
        "Заметим, что для более \"похожих\" последовательностей значения свертки будут больше."
      ]
    },
    {
      "cell_type": "markdown",
      "metadata": {
        "id": "TcMTHkXwUjoc"
      },
      "source": [
        "<img src=\"https://github.com/balezz/tad_ml_dl_2021/blob/main/Assignment4/img/conv1D.jpg?raw=1\">"
      ]
    },
    {
      "cell_type": "markdown",
      "metadata": {
        "id": "8ZKLdPj2Ujoc"
      },
      "source": [
        "## Двумерная свертка и max pooling\n",
        "\n",
        "\n",
        "Пусть мы имеем матрицу черно-белого изображения размером $6x6x1$. Нам нужно определить какая фигура на нем изображена: горизонтальная или вертикальная? Для этого мы используем два сверточных фильтра (Convolution Filters, kernels) размером $3x3$. На первом фильтре у нас три пикселя, расположенных вертикально, на втором фильтре три пикселя, расположенных горизонтально.  \n"
      ]
    },
    {
      "cell_type": "markdown",
      "metadata": {
        "id": "Frx5RpazUjoc"
      },
      "source": [
        "<img src=\"https://github.com/balezz/tad_ml_dl_2021/blob/main/Assignment4/img/conv2D_maxPool.jpg?raw=1\">"
      ]
    },
    {
      "cell_type": "markdown",
      "metadata": {
        "id": "-sPw_i5BUjod"
      },
      "source": [
        "Сдвигая выбранный регион вдоль оси x и оси y мы получаем новую матрицу (карту) размером $4x4$ со значениями скалярного произведения сверточного фильтра и выбранного региона. Т.к. фильтра у нас два, то и сверточных карт у нас тоже будет две: $4x4x2$.  \n",
        "\n",
        "Далее, чтобы вычислить, на какой из фильтров больше \"похоже\" наше исходное изображение, применим операцию Max Pooling. Её смысл довольно прост - нужно из выбранного региона выбрать максимальное значение и записать его в выходную матрицу. Регионы так же как и в свертке сдвигаются вдоль оси x и y.  \n",
        "\n",
        "В результате получаем тензор $3x3x2$, который подается на вход полносвязного слоя, на выходе которого будет два скаляра - z-score для каждого класса. Для первого класса score будет выше, что говорит о том, что исходное изображение является скорее всего вертикальной полосой, чем горизонтальной.   "
      ]
    },
    {
      "cell_type": "markdown",
      "metadata": {
        "id": "zA_6oGzKUjod"
      },
      "source": [
        "Заметим, что в результате свертки у нас уменьшился размер исходного изображения. В общем случае это недопустимо, поэтому исходное изображение дополняется по краям (padding) значениями 0 или ближайших пикселей."
      ]
    },
    {
      "cell_type": "markdown",
      "metadata": {
        "id": "5S5OzYt2Ujod"
      },
      "source": [
        "<img src=\"https://github.com/balezz/tad_ml_dl_2021/blob/main/Assignment4/img/conv.gif?raw=1\">"
      ]
    },
    {
      "cell_type": "markdown",
      "metadata": {
        "id": "kW4eclRSUjoe"
      },
      "source": [
        "# Реализуем новые слои!\n",
        "\n",
        "Сначала основной новый слой - сверточный (Convolutional layer). \n",
        "\n",
        "На рисунке зеленым цветом обозначен один такой \"регион\", который скалярно перемножается с фильтром 1 (вертикальная полоска) и фильтром 2 (горизонтальная полоска)."
      ]
    },
    {
      "cell_type": "markdown",
      "metadata": {
        "id": "I1Dou1DUUjoe"
      },
      "source": [
        "<img src=\"https://github.com/balezz/tad_ml_dl_2021/blob/main/Assignment4/img/conv1.png?raw=1\">"
      ]
    },
    {
      "cell_type": "markdown",
      "metadata": {
        "id": "nDwhR5FYUjoe"
      },
      "source": [
        "Он получает на вход   \n",
        "регион входа I размера `(batch_size, filter_size, filter_size, input_channels)`,  \n",
        "применяет к нему веса W `(filter_size, filter_size, input_channels, output_channels`\n",
        "и выдает `(batch_size, output_channels)`. \n",
        "\n",
        "Если:  \n",
        "- вход преобразовать в I' `(batch_size, filter_size*filter_size*input_channels)`,  \n",
        "- веса в W' `(filter_size*filter_size*input_channels, output_channels)`,  \n",
        "то выход \"пикселе\" будет эквивалентен полносвязному слою со входом I' и весами W'.\n",
        "\n",
        "Осталось выполнить его в цикле для каждого пикселя :)"
      ]
    },
    {
      "cell_type": "code",
      "metadata": {
        "scrolled": false,
        "id": "rNJ-kF5pUjof",
        "colab": {
          "base_uri": "https://localhost:8080/"
        },
        "outputId": "b59bfbc0-0200-4bfc-dbe2-d061c4d8c50f"
      },
      "source": [
        "# TODO: Implement ConvolutionaLayer that supports only 1 output and input channel\n",
        "\n",
        "# Note: now you're working with images, so X is 4-dimensional tensor of\n",
        "# (batch_size, height, width, channels)\n",
        "\n",
        "X = np.array([\n",
        "              [\n",
        "               [[1.0], [2.0]],\n",
        "               [[0.0], [-1.0]]\n",
        "              ]\n",
        "              ,\n",
        "              [\n",
        "               [[0.0], [1.0]],\n",
        "               [[-2.0], [-1.0]]\n",
        "              ]\n",
        "             ])\n",
        "\n",
        "# Batch of 2 images of dimensions 2x2 with a single channel\n",
        "print(\"Shape of X:\",X.shape)\n",
        "\n",
        "layer = ConvolutionalLayer(in_channels=1, out_channels=1, filter_size=2, padding=0)\n",
        "print(\"Shape of W\", layer.W.value.shape)\n",
        "layer.W.value = np.zeros_like(layer.W.value)\n",
        "layer.W.value[0, 0, 0, 0] = 1.0\n",
        "layer.B.value = np.ones_like(layer.B.value)\n",
        "result = layer.forward(X)\n",
        "\n",
        "assert result.shape == (2, 1, 1, 1)\n",
        "assert np.all(result == X[:, :1, :1, :1] +1), f\"result: {result}, X: {X[:, :1, :1, :1]}\"\n",
        "\n",
        "\n",
        "# Now let's implement multiple output channels\n",
        "layer = ConvolutionalLayer(in_channels=1, out_channels=2, filter_size=2, padding=0)\n",
        "result = layer.forward(X)\n",
        "assert result.shape == (2, 1, 1, 2)\n",
        "\n",
        "\n",
        "# And now multple input channels!\n",
        "X = np.array([[\n",
        "               [[1.0, 0.0], [2.0, 1.0]],\n",
        "               [[0.0, -1.0], [-1.0, -2.0]]\n",
        "              ],[\n",
        "               [[0.0, 1.0], [1.0, -1.0]],\n",
        "               [[-2.0, 2.0], [-1.0, 0.0]]\n",
        "              ]])\n",
        "\n",
        "print(\"Shape of X:\", X.shape)\n",
        "layer = ConvolutionalLayer(in_channels=2, out_channels=2, filter_size=2, padding=0)\n",
        "result = layer.forward(X)\n",
        "assert result.shape == (2, 1, 1, 2)\n",
        "\n",
        "print(f'Result: {result}')"
      ],
      "execution_count": 6,
      "outputs": [
        {
          "output_type": "stream",
          "text": [
            "Shape of X: (2, 2, 2, 1)\n",
            "Shape of W (2, 2, 1, 1)\n",
            "Shape of X: (2, 2, 2, 2)\n",
            "Result: [[[[-1.51381082 -1.9461965 ]]]\n",
            "\n",
            "\n",
            " [[[-4.89786213 -0.5934435 ]]]]\n"
          ],
          "name": "stdout"
        }
      ]
    },
    {
      "cell_type": "markdown",
      "metadata": {
        "id": "TrIAdPLfUjof"
      },
      "source": [
        "## А теперь имплементируем обратный проход\n",
        "Возможно, это самое сложное место в курсе. Дальше будет лучше.\n",
        "\n",
        "Раз выполнение сверточного слоя эквивалентно Fully Conected Layer для каждого \"пикселя\" выхода, то общий обратный проход эквивалентен обратному проходу каждого из таких \"слоев\".  \n",
        "Градиенты от каждого из этих \"слоев\" в каждом пикселе надо сложить в соответствующие пиксели градиента по входу, а градиенты весов сложить все вместе."
      ]
    },
    {
      "cell_type": "code",
      "metadata": {
        "scrolled": false,
        "id": "e1QJB8iEUjog",
        "colab": {
          "base_uri": "https://localhost:8080/"
        },
        "outputId": "4e9e4602-b079-414c-b1ff-103ac5ab93f6"
      },
      "source": [
        "# First test - check the shape is right\n",
        "layer = ConvolutionalLayer(in_channels=2, out_channels=2, filter_size=2, padding=0)\n",
        "result = layer.forward(X)\n",
        "d_input = layer.backward(np.ones_like(result))\n",
        "assert d_input.shape == X.shape\n",
        "\n",
        "# Actually test the backward pass\n",
        "# As usual, you'll need to copy gradient check code from the previous assignment\n",
        "layer = ConvolutionalLayer(in_channels=2, out_channels=2, filter_size=2, padding=0)\n",
        "assert check_layer_gradient(layer, X)\n",
        "\n",
        "layer = ConvolutionalLayer(in_channels=2, out_channels=2, filter_size=2, padding=0)\n",
        "assert check_layer_param_gradient(layer, X, 'W')\n",
        "layer = ConvolutionalLayer(in_channels=2, out_channels=2, filter_size=2, padding=0)\n",
        "assert check_layer_param_gradient(layer, X, 'B')"
      ],
      "execution_count": 7,
      "outputs": [
        {
          "output_type": "stream",
          "text": [
            "-0.23687574611310952 -0.23687574612907267\n",
            "1.2928468523586092 1.2928468523742964\n",
            "-0.8793533907267322 -0.8793533907480721\n",
            "0.6410615814285665 0.6410615814411713\n",
            "-0.35184118449904433 -0.35184118449826934\n",
            "0.17619434824256047 0.17619434822258026\n",
            "-0.7212026070621407 -0.721202607056881\n",
            "-1.1145538053694488 -1.1145538053813908\n",
            "-0.011330978711476536 -0.011330978688661729\n",
            "1.527953208202786 1.5279532082246303\n",
            "1.0718917605442104 1.0718917605512246\n",
            "-2.010902135930072 -2.0109021359182577\n",
            "1.2966399221626015 1.296639922143683\n",
            "-1.2368621812231588 -1.2368621812530733\n",
            "-1.6525208107330227 -1.6525208107243115\n",
            "1.2426675984437523 1.2426675984222868\n",
            "Gradient check passed!\n",
            "-0.9956478178531808 -0.9956478178807514\n",
            "0.7716071096072686 0.771607109584238\n",
            "0.8557587675640822 0.8557587675817045\n",
            "-1.2737382804874093 -1.2737382804939301\n",
            "-1.1355368681422795 -1.1355368681353895\n",
            "0.26947593872712794 0.269475938674546\n",
            "-1.851406585417263 -1.851406585418047\n",
            "2.045345390094678 2.045345390078168\n",
            "-1.7115175351281644 -1.711517535163409\n",
            "2.5474765609748187 2.5474765609878602\n",
            "2.7071653529813453 2.707165352999752\n",
            "-3.319083670582087 -3.3190836706165068\n",
            "0.1398890502890986 0.13988905025463794\n",
            "0.5021311708801407 0.5021311708652831\n",
            "1.9912956357063616 1.991295635717094\n",
            "-1.5432142192145373 -1.5432142192128848\n",
            "Gradient check passed!\n",
            "2.678404353917771 2.6784043538619073\n",
            "1.1532950133187072 1.1532950133563702\n",
            "Gradient check passed!\n"
          ],
          "name": "stdout"
        }
      ]
    },
    {
      "cell_type": "markdown",
      "metadata": {
        "id": "2OYGsqe-Ujog"
      },
      "source": [
        "Осталось реализовать дополнение нулями (padding).   \n",
        "Достаточно дополнить входной тензор нулями по сторонам. Не забудьте учесть это при обратном проходе!"
      ]
    },
    {
      "cell_type": "code",
      "metadata": {
        "scrolled": true,
        "id": "m9k7QnGlUjoh",
        "colab": {
          "base_uri": "https://localhost:8080/"
        },
        "outputId": "6fd43252-f71d-4d60-b528-1d6f7783df3e"
      },
      "source": [
        "layer = ConvolutionalLayer(in_channels=2, out_channels=2, filter_size=3, padding=1)\n",
        "result = layer.forward(X)\n",
        "# Note this kind of layer produces the same dimensions as input\n",
        "assert result.shape == X.shape,\"Result shape: %s - Expected shape %s\" % (result.shape, X.shape)\n",
        "d_input = layer.backward(np.ones_like(result))\n",
        "assert d_input.shape == X.shape\n",
        "layer = ConvolutionalLayer(in_channels=2, out_channels=2, filter_size=3, padding=1)\n",
        "assert check_layer_gradient(layer, X)"
      ],
      "execution_count": 8,
      "outputs": [
        {
          "output_type": "stream",
          "text": [
            "-0.7891900797432967 -0.7891900796863637\n",
            "-2.970931469147694 -2.9709314691039874\n",
            "0.572296385608232 0.5722963856591434\n",
            "-1.7274184019326566 -1.7274184019200332\n",
            "-2.2356459275281377 -2.2356459274952556\n",
            "-0.2420472203757595 -0.24204722040011004\n",
            "0.06558393030343568 0.06558393028655018\n",
            "-1.4798632915806098 -1.4798632916424024\n",
            "2.038961081520982 2.0389610815740866\n",
            "-0.7775479990132391 -0.7775479991423139\n",
            "-1.921641896519229 -1.9216418967182844\n",
            "-0.7841600690680138 -0.7841600692337635\n",
            "-2.388915603786349 -2.3889156038237047\n",
            "-5.019691131568796 -5.0196911315580905\n",
            "0.026836988421883923 0.02683698863137351\n",
            "0.9289648939049936 0.9289648938981542\n",
            "Gradient check passed!\n"
          ],
          "name": "stdout"
        }
      ]
    },
    {
      "cell_type": "markdown",
      "metadata": {
        "id": "8PPNmbJ2Ujoh"
      },
      "source": [
        "## После следующего слоя вам уже будет все ни по чем - max pooling\n",
        "\n",
        "Max Pooling - это слой, реализующий операцию максимума для каждого канала отдельно в окресности из `pool_size` \"пикселей\".\n",
        "\n",
        "![image](https://upload.wikimedia.org/wikipedia/commons/e/e9/Max_pooling.png)\n",
        "\n",
        "И напомним что такое stride.  \n",
        "Stride - это на сколько \"пикселей\" сдвигается окно на одном шаге.  \n",
        "Вот здесь, например, stride = 2\n",
        "\n",
        "![image.png](http://deeplearning.net/software/theano/_images/no_padding_strides.gif)\n",
        "\n",
        "На практике, для max pooling значение stride часто равно pool size."
      ]
    },
    {
      "cell_type": "code",
      "metadata": {
        "id": "51rfcdmJUjoh",
        "colab": {
          "base_uri": "https://localhost:8080/"
        },
        "outputId": "09577759-b71e-455b-983f-851f9b864243"
      },
      "source": [
        "pool = MaxPoolingLayer(2, 2)\n",
        "result = pool.forward(X)\n",
        "assert result.shape == (2, 1, 1, 2)\n",
        "\n",
        "assert check_layer_gradient(pool, X)"
      ],
      "execution_count": 9,
      "outputs": [
        {
          "output_type": "stream",
          "text": [
            "0.0 0.0\n",
            "0.0 0.0\n",
            "-0.11475840189836517 -0.11475840190344753\n",
            "0.546015918351226 0.5460159183512392\n",
            "0.0 0.0\n",
            "0.0 0.0\n",
            "0.0 0.0\n",
            "0.0 0.0\n",
            "0.0 0.0\n",
            "0.0 0.0\n",
            "0.48395452042209675 0.483954520424934\n",
            "0.0 0.0\n",
            "0.0 0.0\n",
            "0.006518074978907151 0.006518074979755538\n",
            "0.0 0.0\n",
            "0.0 0.0\n",
            "Gradient check passed!\n"
          ],
          "name": "stdout"
        }
      ]
    },
    {
      "cell_type": "markdown",
      "metadata": {
        "id": "JAXfCex6Ujoi"
      },
      "source": [
        "И на закуску - слой, преобразующий четырехмерные тензоры в двумерные.\n",
        "\n",
        "Этот слой понадобится нам, чтобы в конце сети перейти от сверточных слоев к полносвязным."
      ]
    },
    {
      "cell_type": "code",
      "metadata": {
        "id": "bynySH70Ujoi",
        "colab": {
          "base_uri": "https://localhost:8080/"
        },
        "outputId": "ce3a0ebd-f9c2-4188-bc80-09e3ee4afc07"
      },
      "source": [
        "flattener = Flattener()\n",
        "result = flattener.forward(X)\n",
        "assert result.shape == (2,8)\n",
        "\n",
        "assert check_layer_gradient(flattener, X)"
      ],
      "execution_count": 10,
      "outputs": [
        {
          "output_type": "stream",
          "text": [
            "0.8786164106019141 0.8786164106044935\n",
            "-0.6723883053502522 -0.6723883053449953\n",
            "0.7123564932936253 0.7123564933042558\n",
            "-1.0786234716690752 -1.0786234716730903\n",
            "0.5106489910651337 0.5106489910478018\n",
            "-0.32787329646695706 -0.32787329646843943\n",
            "-1.311086062369191 -1.3110860623610776\n",
            "0.25664281714437287 0.2566428171313362\n",
            "-0.03442649315072909 -0.03442649316731661\n",
            "-1.5427255094821286 -1.5427255094957457\n",
            "-2.1136655425597306 -2.1136655425690876\n",
            "-0.15226383341749491 -0.15226383340838368\n",
            "1.6182259607018272 1.6182259606978275\n",
            "0.32101500820591067 0.32101500822001583\n",
            "-0.6683032367144442 -0.6683032367282848\n",
            "1.0818695156878568 1.0818695156622482\n",
            "Gradient check passed!\n"
          ],
          "name": "stdout"
        }
      ]
    },
    {
      "cell_type": "markdown",
      "metadata": {
        "id": "k59ecbPWUjoi"
      },
      "source": [
        "# Теперь есть все кирпичики, создаем модель"
      ]
    },
    {
      "cell_type": "code",
      "metadata": {
        "scrolled": false,
        "id": "nB3H-jqWUjoj",
        "colab": {
          "base_uri": "https://localhost:8080/"
        },
        "outputId": "193432b4-d5be-4893-a656-d71639dd62fb"
      },
      "source": [
        "# TODO: In model.py, implement missed functions function for ConvNet model\n",
        "\n",
        "# No need to use L2 regularization\n",
        "model = ConvNet(input_shape=(32,32,3), n_output_classes=10, conv1_channels=2, conv2_channels=2)\n",
        "loss = model.compute_loss_and_gradients(train_X[:2], train_y[:2])\n",
        "\n",
        "# TODO Now implement backward pass and aggregate all of the params\n",
        "check_model_gradient(model, train_X[:2], train_y[:2])"
      ],
      "execution_count": 11,
      "outputs": [
        {
          "output_type": "stream",
          "text": [
            "Checking gradient for W1\n",
            "5.5375343065625716e-05 5.537534875088567e-05\n",
            "-0.0008587042690980384 -0.0008587042854557579\n",
            "-1.9036820112331716e-05 -1.903681656756362e-05\n",
            "-0.001034991329684024 -0.0010349913148743894\n",
            "-0.00019632446493930743 -0.00019632444558936865\n",
            "-0.0012742540832327142 -0.001274254080030346\n",
            "0.001221500166100362 0.0012215001454762842\n",
            "-0.0002012315668473664 -0.00020123156474483037\n",
            "0.0010868935917032077 0.0010868935973462612\n",
            "-0.00037425091049755145 -0.0003742509191440035\n",
            "0.0008415189290223848 0.0008415189434174407\n",
            "-0.0006097198406358579 -0.0006097198301802109\n",
            "0.0012114091997500538 0.0012114091951787032\n",
            "0.0017003148939033596 0.0017003148888861117\n",
            "0.00106778986780094 0.0010677898565347732\n",
            "0.0014446578542912304 0.0014446578600058044\n",
            "0.0008230206450195185 0.0008230206516302018\n",
            "0.0010944908137058655 0.0010944908312993107\n",
            "-0.0010230822848374022 -0.0010230822855561428\n",
            "-0.001260457928368209 -0.0012604579380237624\n",
            "-0.001044071359873431 -0.0010440713404946678\n",
            "-0.0014300142534835422 -0.0014300142403556035\n",
            "-0.0010710986840968204 -0.001071098676419524\n",
            "-0.001667169896377331 -0.0016671698910286634\n",
            "0.00012221277142488902 0.00012221277323476443\n",
            "-0.0006135820811550123 -0.0006135820740382769\n",
            "3.6474720508446075e-05 3.647473434398307e-05\n",
            "-0.0007892334708188639 -0.0007892334785708498\n",
            "-6.161741814003161e-05 -6.161746668453816e-05\n",
            "-0.0010101483983639531 -0.0010101483871594041\n",
            "8.429667195298203e-05 8.429665854237099e-05\n",
            "0.0011148428936937629 0.0011148429290841477\n",
            "-4.635788321251741e-07 -4.635847261624803e-07\n",
            "0.0008535109752792704 0.0008535109952134689\n",
            "-9.5663382170903e-05 -9.566338832200925e-05\n",
            "0.0005527966869583945 0.0005527966973062348\n",
            "-0.0008714742653201902 -0.0008714742705251409\n",
            "-0.0012035645528929422 -0.0012035645369223857\n",
            "-0.0008976446657040412 -0.0008976446919106705\n",
            "-0.001383575214367229 -0.0013835752099566887\n",
            "-0.0009326836899297595 -0.0009326837080436688\n",
            "-0.0016398843929624374 -0.0016398844060461213\n",
            "0.00023563558926711318 0.00023563559992112457\n",
            "-0.0013288406671711887 -0.0013288406819356167\n",
            "0.0001447554399734783 0.00014475545206948937\n",
            "-0.0014923865413418126 -0.0014923865254701239\n",
            "4.345922022259967e-05 4.3459214005281403e-05\n",
            "-0.0017146279067656396 -0.0017146279063240397\n",
            "0.00019911676549368113 0.00019911678972306388\n",
            "0.00034462733775713256 0.0003446273044716008\n",
            "0.00010875877874825764 0.00010875877975990987\n",
            "0.00010385486734054105 0.00010385485804675908\n",
            "7.592143710038442e-06 7.59214913159667e-06\n",
            "-0.00018544323393601458 -0.00018544323854285946\n",
            "Gradient check passed!\n",
            "Checking gradient for B1\n",
            "-0.000961504869986036 -0.000961504875718333\n",
            "-0.0026976704741546406 -0.0026976704647907464\n",
            "Gradient check passed!\n",
            "Checking gradient for W4\n",
            "3.2896230107315883e-05 3.2896241286550776e-05\n",
            "-0.00041042444209457026 -0.00041042444998140576\n",
            "-0.00020487575847661326 -0.00020487576080085998\n",
            "-0.0006161324647257326 -0.0006161324561659853\n",
            "-9.787391457725025e-05 -9.787390897741942e-05\n",
            "-0.0005742036725807084 -0.0005742037068046102\n",
            "8.642993466557612e-05 8.642992987972774e-05\n",
            "-0.001497263199101866 -0.0014972632023102503\n",
            "4.369740490301434e-05 4.3697401252984485e-05\n",
            "-9.713234464370582e-05 -9.713236881481178e-05\n",
            "7.748485971175275e-05 7.748484076586237e-05\n",
            "-0.0009488433120842779 -0.0009488433150295349\n",
            "-4.085517898599786e-05 -4.085516369656261e-05\n",
            "-0.001606776540384559 -0.0016067765340466165\n",
            "-6.911405124627342e-05 -6.91140478181751e-05\n",
            "-4.953252503781605e-05 -4.953251142580938e-05\n",
            "-0.0002126377161806877 -0.00021263768523738233\n",
            "-0.0020979315836664914 -0.002097931584010837\n",
            "-0.00034527582975053963 -0.00034527580794474483\n",
            "0.00023061300678049444 0.00023061299536664134\n",
            "9.497731146691062e-05 9.497731490171189e-05\n",
            "-0.0007405046645641564 -0.0007405046797970271\n",
            "-0.00012908299541400218 -0.00012908301094682884\n",
            "-0.00030454645055943725 -0.0003045464325168723\n",
            "8.66185064845635e-05 8.661849015823007e-05\n",
            "-0.001496546026962274 -0.0014965460426452635\n",
            "-8.418774499238113e-05 -8.418772345919477e-05\n",
            "-0.0005623409414124858 -0.0005623409515820299\n",
            "7.278904772040141e-05 7.278904146090781e-05\n",
            "-0.0015244120952045046 -0.001524412107656303\n",
            "-3.49973464366027e-05 -3.4997338360653885e-05\n",
            "-0.0018960409724061052 -0.0018960409686741284\n",
            "-0.0003386149245784532 -0.0003386149582951247\n",
            "-0.00036436108653716015 -0.0003643611190540241\n",
            "-0.00010878427208141399 -0.00010878427048055526\n",
            "-0.0009638502976318302 -0.0009638503106756956\n",
            "Gradient check passed!\n",
            "Checking gradient for B4\n",
            "-4.2512011334073575e-06 -4.251221596973664e-06\n",
            "-0.0008014471683873082 -0.0008014471530870536\n",
            "Gradient check passed!\n",
            "Checking gradient for W8\n",
            "0.37685068935840327 0.376850689476349\n",
            "0.3782553953330855 0.3782553954723155\n",
            "0.3773632494837776 0.3773632496040235\n",
            "0.3772729280537572 0.37727292818701125\n",
            "0.3878637368189533 0.38786373695032234\n",
            "0.3902441182840127 0.39024411842003554\n",
            "0.38272440325520957 0.3827244033915988\n",
            "0.3767613138022614 0.3767613139249448\n",
            "0.3859931555845507 0.38599315570486675\n",
            "-3.433328989974011 -3.4333289898658133\n",
            "0.742607559300653 0.74260756000033\n",
            "0.7415892399820218 0.7415892406825718\n",
            "0.746622807085981 0.7466228077790403\n",
            "0.7394369138286017 0.7394369144986256\n",
            "0.7672634607518886 0.767263461476375\n",
            "0.7785669819504658 0.7785669826620988\n",
            "0.7575716896395475 0.7575716903573947\n",
            "0.7437602222033386 0.7437602228987926\n",
            "0.7614309297936904 0.7614309305070676\n",
            "-6.778849804536189 -6.778849803823483\n",
            "0.29999709072210345 0.2999970907913152\n",
            "0.3010185798726241 0.30101857992903547\n",
            "0.3004819076473039 0.3004819077112586\n",
            "0.3002309464534482 0.30023094652609217\n",
            "0.3088396543333498 0.30883965440597905\n",
            "0.31090355417074267 0.3109035542347982\n",
            "0.304759548431998 0.3047595484861887\n",
            "0.2999598939306252 0.29995989399012046\n",
            "0.3072957091109585 0.3072957091454498\n",
            "-2.733486884673154 -2.7334868846207168\n",
            "0.6982222242249653 0.698222224793099\n",
            "0.6973021568877003 0.6973021574818715\n",
            "0.7019678082600583 0.7019678088360236\n",
            "0.6952806102697761 0.695280610840676\n",
            "0.7213752845261026 0.7213752851065179\n",
            "0.7319379026710284 0.7319379032644234\n",
            "0.7122584851802337 0.7122584857466306\n",
            "0.6992928722894926 0.6992928728521973\n",
            "0.7159125557734081 0.7159125563482859\n",
            "-6.373549900082765 -6.373549899496566\n",
            "0.446792838520979 0.4467928386375774\n",
            "0.4470537132013318 0.4470537133371976\n",
            "0.4485152990139114 0.4485152991451357\n",
            "0.4458086629262365 0.4458086630299007\n",
            "0.4609456451706427 0.46094564529752796\n",
            "0.4662208164004401 0.4662208165306935\n",
            "0.4550140544975577 0.45501405461223493\n",
            "0.4471797810289577 0.4471797811378408\n",
            "0.457931680599286 0.45793168075292096\n",
            "-4.075462491359343 -4.07546249123758\n",
            "0.8908981757264782 0.8908981766309053\n",
            "0.8908583834565984 0.8908583843725281\n",
            "0.8947771812315722 0.894777182147699\n",
            "0.8883437810935172 0.8883437820239591\n",
            "0.9195555310337031 0.9195555319863046\n",
            "0.9310521230618172 0.9310521239980217\n",
            "0.9077924506660516 0.9077924515876744\n",
            "0.8918662486509997 0.8918662495638329\n",
            "0.9132282921519521 0.9132282930979229\n",
            "-8.12837216707269 -8.128372166127384\n",
            "0.09233544752860788 0.0923354475101945\n",
            "0.09293083879054305 0.0929308388020189\n",
            "0.09226164945044568 0.09226164945363989\n",
            "0.09270446758798082 0.09270446761355798\n",
            "0.09483786196438065 0.09483786198583032\n",
            "0.09498236311551016 0.09498236313021378\n",
            "0.0935497287509577 0.09354972876352007\n",
            "0.09222538907092133 0.0922253890811575\n",
            "0.09452194261501676 0.09452194260628487\n",
            "-0.840349688874364 -0.8403496888798044\n",
            "0.6840730441611591 0.6840730447432718\n",
            "0.682920943897334 0.6829209444836336\n",
            "0.6879416862336943 0.6879416868166287\n",
            "0.6809260419972004 0.6809260425733042\n",
            "0.706952488100413 0.7069524886826882\n",
            "0.7177388626214511 0.717738863231787\n",
            "0.6980492760209026 0.6980492766262002\n",
            "0.6852099682328213 0.6852099688092749\n",
            "0.7014583542490823 0.7014583548459185\n",
            "-6.245270665514059 -6.245270664906321\n",
            "Gradient check passed!\n",
            "Checking gradient for B8\n",
            "0.09856955394076503 0.09856955394127452\n",
            "0.09863443263592293 0.09863443264368497\n",
            "0.09894374163607705 0.09894374166652396\n",
            "0.0983601733975861 0.09836017342834678\n",
            "0.10168617131114227 0.10168617130545952\n",
            "0.10283716331986562 0.10283716334047453\n",
            "0.10037672598892497 0.10037672595331058\n",
            "0.09865234873041535 0.09865234871231364\n",
            "0.1010253959163531 0.10102539593770386\n",
            "-0.8990857068770524 -0.8990857068846835\n",
            "Gradient check passed!\n"
          ],
          "name": "stdout"
        },
        {
          "output_type": "execute_result",
          "data": {
            "text/plain": [
              "True"
            ]
          },
          "metadata": {
            "tags": []
          },
          "execution_count": 11
        }
      ]
    },
    {
      "cell_type": "markdown",
      "metadata": {
        "id": "WdN2xQxNUjoj"
      },
      "source": [
        "# Оптимизатор и код для тренировки \n",
        "Должен заработать с кодом из прошлого задания без изменений!"
      ]
    },
    {
      "cell_type": "code",
      "metadata": {
        "scrolled": false,
        "id": "6ihEMQHQUjoj",
        "colab": {
          "base_uri": "https://localhost:8080/"
        },
        "outputId": "8124f861-4eb8-4ec0-b3e2-8b98280fc59a"
      },
      "source": [
        "model = ConvNet(input_shape=(32,32,3), n_output_classes=10, conv1_channels=2, conv2_channels=2)\n",
        "dataset = Dataset(train_X[:16], train_y[:16], val_X[:16], val_y[:16])\n",
        "trainer = Trainer(model, dataset, SGD(), batch_size=16, learning_rate=1e-4)\n",
        "\n",
        "loss_history, train_history, val_history = trainer.fit()"
      ],
      "execution_count": 12,
      "outputs": [
        {
          "output_type": "stream",
          "text": [
            "Loss: 2.302321, Train accuracy: 0.062500, val accuracy: 0.000000\n",
            "Loss: 2.302167, Train accuracy: 0.062500, val accuracy: 0.000000\n",
            "Loss: 2.302014, Train accuracy: 0.062500, val accuracy: 0.000000\n",
            "Loss: 2.301860, Train accuracy: 0.062500, val accuracy: 0.000000\n",
            "Loss: 2.301707, Train accuracy: 0.062500, val accuracy: 0.000000\n",
            "Loss: 2.301554, Train accuracy: 0.062500, val accuracy: 0.000000\n",
            "Loss: 2.301401, Train accuracy: 0.062500, val accuracy: 0.000000\n",
            "Loss: 2.301248, Train accuracy: 0.062500, val accuracy: 0.000000\n",
            "Loss: 2.301096, Train accuracy: 0.000000, val accuracy: 0.000000\n",
            "Loss: 2.300943, Train accuracy: 0.000000, val accuracy: 0.000000\n",
            "Loss: 2.300791, Train accuracy: 0.062500, val accuracy: 0.000000\n",
            "Loss: 2.300639, Train accuracy: 0.125000, val accuracy: 0.062500\n",
            "Loss: 2.300487, Train accuracy: 0.125000, val accuracy: 0.062500\n",
            "Loss: 2.300335, Train accuracy: 0.125000, val accuracy: 0.062500\n",
            "Loss: 2.300183, Train accuracy: 0.125000, val accuracy: 0.062500\n",
            "Loss: 2.300031, Train accuracy: 0.125000, val accuracy: 0.062500\n",
            "Loss: 2.299880, Train accuracy: 0.125000, val accuracy: 0.062500\n",
            "Loss: 2.299729, Train accuracy: 0.125000, val accuracy: 0.062500\n",
            "Loss: 2.299577, Train accuracy: 0.125000, val accuracy: 0.125000\n",
            "Loss: 2.299426, Train accuracy: 0.125000, val accuracy: 0.125000\n"
          ],
          "name": "stdout"
        }
      ]
    },
    {
      "cell_type": "code",
      "metadata": {
        "id": "VujQCDUOUjok",
        "colab": {
          "base_uri": "https://localhost:8080/",
          "height": 282
        },
        "outputId": "f871bca0-b857-4ce1-d5d1-cb5b89162134"
      },
      "source": [
        "plt.plot(train_history)\n",
        "plt.plot(val_history)"
      ],
      "execution_count": 15,
      "outputs": [
        {
          "output_type": "execute_result",
          "data": {
            "text/plain": [
              "[<matplotlib.lines.Line2D at 0x7f6960d4fa50>]"
            ]
          },
          "metadata": {
            "tags": []
          },
          "execution_count": 15
        },
        {
          "output_type": "display_data",
          "data": {
            "image/png": "[encoded data removed]",
            "text/plain": [
              "<Figure size 432x288 with 1 Axes>"
            ]
          },
          "metadata": {
            "tags": [],
            "needs_background": "light"
          }
        }
      ]
    },
    {
      "cell_type": "markdown",
      "metadata": {
        "id": "EwskUFTxUjok"
      },
      "source": [
        "# Последнее упражнение\n",
        "В качестве последнего упражнения мы доведем точность на тренировочном наборе данных до 100% на небольшом наборе данных.\n",
        "Сверточные сети требуют большого количества вычислений и аккуратной эффективной реализации, поэтому настоящие модели мы будем тренировать уже на PyTorch в следующем задании."
      ]
    },
    {
      "cell_type": "markdown",
      "metadata": {
        "id": "7rt4GTPeUjok"
      },
      "source": [
        "## Итак, оверфитим маленький набор данных\n"
      ]
    },
    {
      "cell_type": "code",
      "metadata": {
        "id": "qYeSwwTuUjok",
        "colab": {
          "base_uri": "https://localhost:8080/"
        },
        "outputId": "0decc41c-d5d2-41b6-f286-daf620ef931c"
      },
      "source": [
        "data_size = 128\n",
        "model = ConvNet(input_shape=(32,32,3), n_output_classes=10, conv1_channels=40, conv2_channels=40)\n",
        "dataset = Dataset(train_X[:data_size], train_y[:data_size], val_X[:data_size], val_y[:data_size])\n",
        "# TODO: Change any hyperparamers or optimizators to reach 1.0 training accuracy in 50 epochs or less\n",
        "# Hint: If you have hard time finding the right parameters manually, try grid search or random search!\n",
        "trainer = Trainer(model, dataset, MomentumSGD(0.9), learning_rate=1e-3, learning_rate_decay=0.965, num_epochs=45, batch_size=8)\n",
        "\n",
        "loss_history, train_history, val_history = trainer.fit()"
      ],
      "execution_count": 19,
      "outputs": [
        {
          "output_type": "stream",
          "text": [
            "/content/Assignment/Assignment4/layers.py:57: RuntimeWarning: divide by zero encountered in log\n",
            "  loss = - 1 / N * np.sum(np.log(p_pred))\n"
          ],
          "name": "stderr"
        },
        {
          "output_type": "stream",
          "text": [
            "Loss: 156.402401, Train accuracy: 0.132812, val accuracy: 0.093750\n",
            "Loss: 28.747462, Train accuracy: 0.195312, val accuracy: 0.148438\n",
            "Loss: 4.575571, Train accuracy: 0.218750, val accuracy: 0.187500\n",
            "Loss: 6.088510, Train accuracy: 0.398438, val accuracy: 0.171875\n",
            "Loss: 4.004980, Train accuracy: 0.429688, val accuracy: 0.132812\n",
            "Loss: 1.598059, Train accuracy: 0.554688, val accuracy: 0.117188\n",
            "Loss: 2.108748, Train accuracy: 0.554688, val accuracy: 0.140625\n",
            "Loss: 1.305278, Train accuracy: 0.671875, val accuracy: 0.140625\n",
            "Loss: 1.458318, Train accuracy: 0.687500, val accuracy: 0.164062\n",
            "Loss: 1.399690, Train accuracy: 0.773438, val accuracy: 0.140625\n",
            "Loss: 0.459931, Train accuracy: 0.835938, val accuracy: 0.156250\n",
            "Loss: 1.221978, Train accuracy: 0.843750, val accuracy: 0.148438\n",
            "Loss: 0.526954, Train accuracy: 0.867188, val accuracy: 0.148438\n",
            "Loss: 0.501955, Train accuracy: 0.875000, val accuracy: 0.171875\n",
            "Loss: 0.657270, Train accuracy: 0.882812, val accuracy: 0.187500\n",
            "Loss: 0.442905, Train accuracy: 0.898438, val accuracy: 0.171875\n",
            "Loss: 0.485852, Train accuracy: 0.914062, val accuracy: 0.156250\n",
            "Loss: 0.543076, Train accuracy: 0.937500, val accuracy: 0.156250\n",
            "Loss: 0.549024, Train accuracy: 0.953125, val accuracy: 0.179688\n",
            "Loss: 0.721915, Train accuracy: 0.945312, val accuracy: 0.187500\n",
            "Loss: 0.395382, Train accuracy: 0.953125, val accuracy: 0.164062\n",
            "Loss: 0.254888, Train accuracy: 0.937500, val accuracy: 0.203125\n",
            "Loss: 0.311568, Train accuracy: 0.968750, val accuracy: 0.195312\n",
            "Loss: 0.313876, Train accuracy: 0.976562, val accuracy: 0.187500\n",
            "Loss: 0.501032, Train accuracy: 0.976562, val accuracy: 0.203125\n",
            "Loss: 0.397278, Train accuracy: 0.976562, val accuracy: 0.171875\n",
            "Loss: 0.431833, Train accuracy: 0.968750, val accuracy: 0.195312\n",
            "Loss: 0.354809, Train accuracy: 0.976562, val accuracy: 0.195312\n",
            "Loss: 0.159416, Train accuracy: 0.976562, val accuracy: 0.210938\n",
            "Loss: 0.594605, Train accuracy: 0.968750, val accuracy: 0.179688\n",
            "Loss: 0.195828, Train accuracy: 0.976562, val accuracy: 0.195312\n",
            "Loss: 0.324619, Train accuracy: 0.976562, val accuracy: 0.171875\n",
            "Loss: 0.176664, Train accuracy: 0.976562, val accuracy: 0.187500\n",
            "Loss: 0.291670, Train accuracy: 0.984375, val accuracy: 0.218750\n",
            "Loss: 0.323019, Train accuracy: 0.976562, val accuracy: 0.195312\n",
            "Loss: 0.217742, Train accuracy: 0.984375, val accuracy: 0.195312\n",
            "Loss: 0.179870, Train accuracy: 0.984375, val accuracy: 0.203125\n",
            "Loss: 0.351531, Train accuracy: 0.984375, val accuracy: 0.179688\n",
            "Loss: 0.306176, Train accuracy: 0.992188, val accuracy: 0.195312\n",
            "Loss: 0.333921, Train accuracy: 0.984375, val accuracy: 0.187500\n",
            "Loss: 0.165867, Train accuracy: 0.992188, val accuracy: 0.187500\n",
            "Loss: 0.269827, Train accuracy: 0.992188, val accuracy: 0.203125\n",
            "Loss: 0.131151, Train accuracy: 0.992188, val accuracy: 0.187500\n",
            "Loss: 0.148113, Train accuracy: 1.000000, val accuracy: 0.195312\n",
            "Loss: 0.205180, Train accuracy: 1.000000, val accuracy: 0.195312\n"
          ],
          "name": "stdout"
        }
      ]
    },
    {
      "cell_type": "code",
      "metadata": {
        "id": "JbeGmqELUjol",
        "colab": {
          "base_uri": "https://localhost:8080/",
          "height": 299
        },
        "outputId": "48282679-ef6d-4ef5-ff3b-2885dc5f3e56"
      },
      "source": [
        "print(f\"Best train accuracy: {max(train_history)}\")\n",
        "plt.plot(train_history)\n",
        "plt.plot(val_history)"
      ],
      "execution_count": 21,
      "outputs": [
        {
          "output_type": "stream",
          "text": [
            "Best train accuracy: 1.0\n"
          ],
          "name": "stdout"
        },
        {
          "output_type": "execute_result",
          "data": {
            "text/plain": [
              "[<matplotlib.lines.Line2D at 0x7f6960b45e50>]"
            ]
          },
          "metadata": {
            "tags": []
          },
          "execution_count": 21
        },
        {
          "output_type": "display_data",
          "data": {
            "image/png": "[encoded data removed]",
            "text/plain": [
              "<Figure size 432x288 with 1 Axes>"
            ]
          },
          "metadata": {
            "tags": [],
            "needs_background": "light"
          }
        }
      ]
    }
  ]
}