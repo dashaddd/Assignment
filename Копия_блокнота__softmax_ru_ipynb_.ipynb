{
  "nbformat": 4,
  "nbformat_minor": 0,
  "metadata": {
    "kernelspec": {
      "display_name": "Python 3",
      "language": "python",
      "name": "python3"
    },
    "language_info": {
      "codemirror_mode": {
        "name": "ipython",
        "version": 3
      },
      "file_extension": ".py",
      "mimetype": "text/x-python",
      "name": "python",
      "nbconvert_exporter": "python",
      "pygments_lexer": "ipython3",
      "version": "3.7.3"
    },
    "colab": {
      "name": "Копия блокнота \"softmax-ru.ipynb\"",
      "provenance": [],
      "collapsed_sections": []
    }
  },
  "cells": [
    {
      "cell_type": "markdown",
      "metadata": {
        "tags": [
          "pdf-title"
        ],
        "id": "A2xmvD953B8S"
      },
      "source": [
        "# Линейный классификатор Softmax \n",
        "\n",
        "Для выполнения этого задания нужно будет дописать код в этом ноутбуке и внешнем файле classifiers/softmax.py \n",
        "\n",
        "Как и в упражнении с классификатором SVM, вам предстоит:\n",
        "\n",
        "- реализовать векторизованную функцию потерь (**loss**) для Softmax классификатора\n",
        "- реализовать векторизованную функцию для вычисления **аналитического градиента**\n",
        "- **проверить свою реализацию** с градиентом, вычисленным методом конечных разностей\n",
        "- **найти лучшие learning rate и regularization** с помощью валидационной выборки\n",
        "- **оптимизировать** функцию потерь с помощью градиентного спуска **SGD**\n",
        "- **визуализировать** матрицу оптимальных весов.\n"
      ]
    },
    {
      "cell_type": "code",
      "metadata": {
        "id": "lO1AV4lM3B8W",
        "colab": {
          "base_uri": "https://localhost:8080/"
        },
        "outputId": "5a030fa3-6c78-495b-d78d-0b3f1464d484"
      },
      "source": [
        "!git clone https://github.com/balezz/tad_ml_dl_2021.git"
      ],
      "execution_count": 4,
      "outputs": [
        {
          "output_type": "stream",
          "text": [
            "Cloning into 'tad_ml_dl_2021'...\n",
            "remote: Enumerating objects: 92, done.\u001b[K\n",
            "remote: Total 92 (delta 0), reused 0 (delta 0), pack-reused 92\u001b[K\n",
            "Unpacking objects: 100% (92/92), done.\n"
          ],
          "name": "stdout"
        }
      ]
    },
    {
      "cell_type": "code",
      "metadata": {
        "id": "f9wz5oNN4u1h",
        "colab": {
          "base_uri": "https://localhost:8080/",
          "height": 35
        },
        "outputId": "2992fb49-f8b3-4352-ff05-97e0b3e1da3b"
      },
      "source": [
        "!cd tad_ml_dl_2021/Assignment2\n",
        "import os\n",
        "os.chdir('tad_ml_dl_2021/Assignment2')\n",
        "os.getcwd()"
      ],
      "execution_count": 5,
      "outputs": [
        {
          "output_type": "execute_result",
          "data": {
            "application/vnd.google.colaboratory.intrinsic+json": {
              "type": "string"
            },
            "text/plain": [
              "'/content/Assignment/tad_ml_dl_2021/Assignment2'"
            ]
          },
          "metadata": {
            "tags": []
          },
          "execution_count": 5
        }
      ]
    },
    {
      "cell_type": "code",
      "metadata": {
        "tags": [
          "pdf-ignore"
        ],
        "id": "g0_i3AYm3B8Y"
      },
      "source": [
        "# Подготовка к работе, импорт библиотек\n",
        "import random\n",
        "import numpy as np\n",
        "from lib.data_utils import load_CIFAR10\n",
        "import matplotlib.pyplot as plt\n",
        "\n",
        "# Изображения нужно отображать в ноутбуке.\n",
        "%matplotlib inline\n",
        "plt.rcParams['figure.figsize'] = (10.0, 8.0) # set default size of plots\n",
        "plt.rcParams['image.interpolation'] = 'nearest'\n",
        "plt.rcParams['image.cmap'] = 'gray'\n",
        "\n",
        "# Автоматическая перезагрузка модулей из файлов *.py\n",
        "%load_ext autoreload\n",
        "%autoreload 2"
      ],
      "execution_count": 6,
      "outputs": []
    },
    {
      "cell_type": "code",
      "metadata": {
        "id": "5z-Vl4a-5BBR",
        "colab": {
          "base_uri": "https://localhost:8080/"
        },
        "outputId": "7c0556ee-8645-4c24-8493-76288fe3ce92"
      },
      "source": [
        "!wget http://www.cs.toronto.edu/~kriz/cifar-10-python.tar.gz -O cifar-10-python.tar.gz\n",
        "!tar -xzvf cifar-10-python.tar.gz "
      ],
      "execution_count": 7,
      "outputs": [
        {
          "output_type": "stream",
          "text": [
            "--2021-03-02 17:50:14--  http://www.cs.toronto.edu/~kriz/cifar-10-python.tar.gz\n",
            "Resolving www.cs.toronto.edu (www.cs.toronto.edu)... 128.100.3.30\n",
            "Connecting to www.cs.toronto.edu (www.cs.toronto.edu)|128.100.3.30|:80... connected.\n",
            "HTTP request sent, awaiting response... 200 OK\n",
            "Length: 170498071 (163M) [application/x-gzip]\n",
            "Saving to: ‘cifar-10-python.tar.gz’\n",
            "\n",
            "cifar-10-python.tar 100%[===================>] 162.60M  53.3MB/s    in 3.0s    \n",
            "\n",
            "2021-03-02 17:50:18 (53.3 MB/s) - ‘cifar-10-python.tar.gz’ saved [170498071/170498071]\n",
            "\n",
            "cifar-10-batches-py/\n",
            "cifar-10-batches-py/data_batch_4\n",
            "cifar-10-batches-py/readme.html\n",
            "cifar-10-batches-py/test_batch\n",
            "cifar-10-batches-py/data_batch_3\n",
            "cifar-10-batches-py/batches.meta\n",
            "cifar-10-batches-py/data_batch_2\n",
            "cifar-10-batches-py/data_batch_5\n",
            "cifar-10-batches-py/data_batch_1\n"
          ],
          "name": "stdout"
        }
      ]
    },
    {
      "cell_type": "code",
      "metadata": {
        "id": "vIluzt125E-r",
        "colab": {
          "base_uri": "https://localhost:8080/"
        },
        "outputId": "2f460834-27a1-4658-a6ec-b45e371b557e"
      },
      "source": [
        "!ls"
      ],
      "execution_count": null,
      "outputs": [
        {
          "output_type": "stream",
          "text": [
            "A2.csv\t\t     cifar-10-python.tar.gz  README.MD\t       softmax-ru.ipynb\n",
            "cifar-10-batches-py  lib\t\t     requirements.txt  svm-ru.ipynb\n"
          ],
          "name": "stdout"
        }
      ]
    },
    {
      "cell_type": "code",
      "metadata": {
        "id": "iuH0AmSe5Jb-",
        "colab": {
          "base_uri": "https://localhost:8080/"
        },
        "outputId": "afdaa3b7-89f2-472d-dbf6-55d393bcf0e3"
      },
      "source": [
        "import random\n",
        "import numpy as np\n",
        "from lib.data_utils import load_CIFAR10\n",
        "import matplotlib.pyplot as plt\n",
        "\n",
        "%matplotlib inline\n",
        "plt.rcParams['figure.figsize'] = (10.0, 8.0) # set default size of plots\n",
        "plt.rcParams['image.interpolation'] = 'nearest'\n",
        "plt.rcParams['image.cmap'] = 'gray'\n",
        "\n",
        "%load_ext autoreload\n",
        "%autoreload 2"
      ],
      "execution_count": 8,
      "outputs": [
        {
          "output_type": "stream",
          "text": [
            "The autoreload extension is already loaded. To reload it, use:\n",
            "  %reload_ext autoreload\n"
          ],
          "name": "stdout"
        }
      ]
    },
    {
      "cell_type": "code",
      "metadata": {
        "id": "5sjDnasU5QpB",
        "colab": {
          "base_uri": "https://localhost:8080/"
        },
        "outputId": "f7d9caef-5307-49d9-88ff-ea4223dd2e41"
      },
      "source": [
        "def get_CIFAR10_data(num_training=49000, num_validation=1000, num_test=1000, num_dev=500):\n",
        "    \"\"\"\n",
        "    Загрузка датасета CIFAR-10 и нормализация данных.\n",
        "    Алгоритм такой же как в упражнении с SVM, только обернут в функцию.  \n",
        "    \"\"\"\n",
        "    cifar10_dir = './cifar-10-batches-py'\n",
        "    \n",
        "    try:\n",
        "       del X_train, y_train\n",
        "       del X_test, y_test\n",
        "       print('Clear previously loaded data.')\n",
        "    except:\n",
        "       pass\n",
        "\n",
        "    X_train, y_train, X_test, y_test = load_CIFAR10(cifar10_dir)\n",
        "    \n",
        "    mask = list(range(num_training, num_training + num_validation))\n",
        "    X_val = X_train[mask]\n",
        "    y_val = y_train[mask]\n",
        "    mask = list(range(num_training))\n",
        "    X_train = X_train[mask]\n",
        "    y_train = y_train[mask]\n",
        "    mask = list(range(num_test))\n",
        "    X_test = X_test[mask]\n",
        "    y_test = y_test[mask]\n",
        "    mask = np.random.choice(num_training, num_dev, replace=False)\n",
        "    X_dev = X_train[mask]\n",
        "    y_dev = y_train[mask]\n",
        "    \n",
        "    X_train = np.reshape(X_train, (X_train.shape[0], -1))\n",
        "    X_val = np.reshape(X_val, (X_val.shape[0], -1))\n",
        "    X_test = np.reshape(X_test, (X_test.shape[0], -1))\n",
        "    X_dev = np.reshape(X_dev, (X_dev.shape[0], -1))\n",
        "    \n",
        "    mean_image = np.mean(X_train, axis = 0)\n",
        "    X_train -= mean_image\n",
        "    X_val -= mean_image\n",
        "    X_test -= mean_image\n",
        "    X_dev -= mean_image\n",
        "    \n",
        "    X_train = np.hstack([X_train, np.ones((X_train.shape[0], 1))])\n",
        "    X_val = np.hstack([X_val, np.ones((X_val.shape[0], 1))])\n",
        "    X_test = np.hstack([X_test, np.ones((X_test.shape[0], 1))])\n",
        "    X_dev = np.hstack([X_dev, np.ones((X_dev.shape[0], 1))])\n",
        "    \n",
        "    return X_train, y_train, X_val, y_val, X_test, y_test, X_dev, y_dev\n",
        "\n",
        "\n",
        "# Вызов функции для получения подвыборок train, val, test, dev.\n",
        "X_train, y_train, X_val, y_val, X_test, y_test, X_dev, y_dev = get_CIFAR10_data()\n",
        "print('Train data shape: ', X_train.shape)\n",
        "print('Train labels shape: ', y_train.shape)\n",
        "print('Validation data shape: ', X_val.shape)\n",
        "print('Validation labels shape: ', y_val.shape)\n",
        "print('Test data shape: ', X_test.shape)\n",
        "print('Test labels shape: ', y_test.shape)\n",
        "print('dev data shape: ', X_dev.shape)\n",
        "print('dev labels shape: ', y_dev.shape)"
      ],
      "execution_count": 9,
      "outputs": [
        {
          "output_type": "stream",
          "text": [
            "Train data shape:  (49000, 3073)\n",
            "Train labels shape:  (49000,)\n",
            "Validation data shape:  (1000, 3073)\n",
            "Validation labels shape:  (1000,)\n",
            "Test data shape:  (1000, 3073)\n",
            "Test labels shape:  (1000,)\n",
            "dev data shape:  (500, 3073)\n",
            "dev labels shape:  (500,)\n"
          ],
          "name": "stdout"
        }
      ]
    },
    {
      "cell_type": "markdown",
      "metadata": {
        "pycharm": {
          "name": "#%% md\n"
        },
        "id": "hGc-c2dX3B8b"
      },
      "source": [
        "## Softmax Classifier\n",
        "\n",
        "Your code for this section will all be written inside `lib/classifiers/softmax.py`.\n"
      ]
    },
    {
      "cell_type": "code",
      "metadata": {
        "id": "x_H3OE6R5XRw",
        "colab": {
          "base_uri": "https://localhost:8080/"
        },
        "outputId": "4d41379b-684e-40eb-f13b-7ef710966583"
      },
      "source": [
        "!git clone https://github.com/dashaddd/Assignment"
      ],
      "execution_count": 1,
      "outputs": [
        {
          "output_type": "stream",
          "text": [
            "Cloning into 'Assignment'...\n",
            "remote: Enumerating objects: 17, done.\u001b[K\n",
            "remote: Counting objects: 100% (17/17), done.\u001b[K\n",
            "remote: Compressing objects: 100% (15/15), done.\u001b[K\n",
            "remote: Total 17 (delta 2), reused 0 (delta 0), pack-reused 0\u001b[K\n",
            "Unpacking objects: 100% (17/17), done.\n"
          ],
          "name": "stdout"
        }
      ]
    },
    {
      "cell_type": "code",
      "metadata": {
        "id": "nZ7AJ_IB5aLu"
      },
      "source": [
        "!cd Assignment\n",
        "import os\n",
        "os.chdir('Assignment')"
      ],
      "execution_count": 2,
      "outputs": []
    },
    {
      "cell_type": "code",
      "metadata": {
        "pycharm": {
          "name": "#%%\n"
        },
        "id": "mP_ItVSl3B8c",
        "colab": {
          "base_uri": "https://localhost:8080/"
        },
        "outputId": "e6c2c93f-5351-4e41-afe9-f7196bd8e790"
      },
      "source": [
        "# Реализуйте функцию вычисления softmax loss в файле classifiers/softmax.py\n",
        "# с помощью циклов\n",
        "from softmax import softmax_loss_naive\n",
        "import time\n",
        "\n",
        "# Инициализируем веса значениями близкими, но не равными нулю\n",
        "W = np.random.randn(3073, 10) * 0.0001\n",
        "loss, grad = softmax_loss_naive(W, X_dev, y_dev, 0.0)\n",
        "\n",
        "# Проверим правильность реализации\n",
        "# Для 10 классов loss должен быть около -log(0.1).\n",
        "print('loss: %f' % loss)\n",
        "print('sanity check: %f' % (-np.log(0.1)))"
      ],
      "execution_count": 10,
      "outputs": [
        {
          "output_type": "stream",
          "text": [
            "loss: 0.004471\n",
            "sanity check: 2.302585\n"
          ],
          "name": "stdout"
        }
      ]
    },
    {
      "cell_type": "markdown",
      "metadata": {
        "id": "wk4an37n5pkp"
      },
      "source": [
        "Вопрос 1\n",
        "\n",
        "Объясните, почему мы предположили, что для 10 классов при весах близких к нулю softmax loss приблизительно равен -log(0.1)?\n",
        "Ответ:  В CIFAR-10 у нас есть 10 классов выбранных с одинаковой вероятностью, поэтому вероятность каждого правильного класса будет 0,1, а softmax loss - это отрицательная логарифмическая вероятность правильного класса, поэтому \n",
        "-log (0,1)."
      ]
    },
    {
      "cell_type": "code",
      "metadata": {
        "id": "VuhwoCfc3B8d",
        "colab": {
          "base_uri": "https://localhost:8080/"
        },
        "outputId": "05258288-47f6-4149-e023-9bb14ad36b74"
      },
      "source": [
        "# Дополните функцию softmax_loss_naive вычислением градиента dW\n",
        "# с помощью вложенных циклов.\n",
        "loss, grad = softmax_loss_naive(W, X_dev, y_dev, 0.0)\n",
        "\n",
        "# Как и в упражнении с SVM, используем метод конечных разностей для проверки.\n",
        "from lib.gradient_check import grad_check_sparse\n",
        "f = lambda w: softmax_loss_naive(w, X_dev, y_dev, 0.0)[0]\n",
        "grad_numerical = grad_check_sparse(f, W, grad, 10)\n",
        "\n",
        "# Тест должен быть пройден и при ненулевой регуляризации\n",
        "loss, grad = softmax_loss_naive(W, X_dev, y_dev, 5e1)\n",
        "f = lambda w: softmax_loss_naive(w, X_dev, y_dev, 5e1)[0]\n",
        "grad_numerical = grad_check_sparse(f, W, grad, 10)"
      ],
      "execution_count": null,
      "outputs": [
        {
          "output_type": "stream",
          "text": [
            "numerical: -0.006732 analytic: -0.006732, relative error: 8.886751e-09\n",
            "numerical: -0.013155 analytic: -0.013155, relative error: 3.360912e-08\n",
            "numerical: -0.011501 analytic: -0.011501, relative error: 2.571900e-08\n",
            "numerical: -0.016916 analytic: -0.016916, relative error: 3.322388e-08\n",
            "numerical: -0.017827 analytic: -0.017827, relative error: 6.160765e-08\n",
            "numerical: -0.015681 analytic: -0.015681, relative error: 4.050226e-08\n",
            "numerical: -0.002011 analytic: -0.002011, relative error: 1.103313e-09\n",
            "numerical: -0.001988 analytic: -0.001988, relative error: 7.706066e-10\n",
            "numerical: -0.020845 analytic: -0.020845, relative error: 5.052313e-08\n",
            "numerical: -0.020465 analytic: -0.020465, relative error: 4.801274e-08\n",
            "numerical: -0.013608 analytic: -0.013608, relative error: 2.609516e-09\n",
            "numerical: -0.047914 analytic: -0.047914, relative error: 2.389040e-08\n",
            "numerical: 0.010085 analytic: 0.010085, relative error: 2.856109e-10\n",
            "numerical: -0.007154 analytic: -0.007154, relative error: 2.461748e-08\n",
            "numerical: 0.005115 analytic: 0.005115, relative error: 1.322727e-10\n",
            "numerical: -0.001109 analytic: -0.001109, relative error: 2.465765e-08\n",
            "numerical: -0.008673 analytic: -0.008673, relative error: 2.165007e-09\n",
            "numerical: 0.018509 analytic: 0.018509, relative error: 3.042500e-08\n",
            "numerical: -0.025650 analytic: -0.025650, relative error: 9.179352e-09\n",
            "numerical: 0.185974 analytic: 0.185974, relative error: 4.768630e-09\n"
          ],
          "name": "stdout"
        }
      ]
    },
    {
      "cell_type": "code",
      "metadata": {
        "id": "tuning",
        "tags": [
          "code"
        ],
        "colab": {
          "base_uri": "https://localhost:8080/"
        },
        "outputId": "104c3464-48f4-405b-d120-5f4abbe2c0ba"
      },
      "source": [
        "# Теперь реализуем более эффективную векторизованную версию функции вычисления loss и dW\n",
        "# Оценим, насколько быстрее стали вычисления\n",
        "tic = time.time()\n",
        "loss_naive, grad_naive = softmax_loss_naive(W, X_dev, y_dev, 0.000005)\n",
        "toc = time.time()\n",
        "print('naive loss: %e computed in %fs' % (loss_naive, toc - tic))\n",
        "\n",
        "from softmax import softmax_loss_vectorized\n",
        "tic = time.time()\n",
        "loss_vectorized, grad_vectorized = softmax_loss_vectorized(W, X_dev, y_dev, 0.000005)\n",
        "toc = time.time()\n",
        "print('vectorized loss: %e computed in %fs' % (loss_vectorized, toc - tic))\n",
        "\n",
        "# Для оценки близости двух матриц градиентов используем норму Фробениуса\n",
        "grad_difference = np.linalg.norm(grad_naive - grad_vectorized, ord='fro')\n",
        "print('Loss difference: %f' % np.abs(loss_naive - loss_vectorized))\n",
        "print('Gradient difference: %f' % grad_difference)"
      ],
      "execution_count": null,
      "outputs": [
        {
          "output_type": "stream",
          "text": [
            "naive loss: 5.171753e-03 computed in 0.156576s\n",
            "vectorized loss: 2.333926e+00 computed in 0.014598s\n",
            "Loss difference: 2.328754\n",
            "Gradient difference: 309.222067\n"
          ],
          "name": "stdout"
        }
      ]
    },
    {
      "cell_type": "code",
      "metadata": {
        "id": "t70arRjD6bvJ",
        "colab": {
          "base_uri": "https://localhost:8080/"
        },
        "outputId": "40eb9824-a045-4467-b026-09a0c289d429"
      },
      "source": [
        "X_train.shape[0]"
      ],
      "execution_count": null,
      "outputs": [
        {
          "output_type": "execute_result",
          "data": {
            "text/plain": [
              "49000"
            ]
          },
          "metadata": {
            "tags": []
          },
          "execution_count": 22
        }
      ]
    },
    {
      "cell_type": "code",
      "metadata": {
        "id": "Hibe-qlE6hXe",
        "colab": {
          "base_uri": "https://localhost:8080/"
        },
        "outputId": "a1f8ad16-6176-4267-fe5f-c33e2f8954c5"
      },
      "source": [
        "# Используйте валидационную выборку для выбора лучших гиперпараметров \n",
        "# (learning rate and regularization strength)\n",
        "# Добейтесь точности не меньше 0.35 на выборке val.\n",
        "# Используйте словарь results в котором \n",
        "# ключи - кортеж  (learning_rate, regularization_strength)\n",
        "# значения - (training_accuracy, validation_accuracy)\n",
        "# Точность вычисляется как отношение числа верно предсказанных классов \n",
        "# к объему выборки\n",
        "from linear_classifier1 import Softmax\n",
        "results = {}\n",
        "best_val = -1\n",
        "best_softmax = None\n",
        "\n",
        "################################################################################\n",
        "# TODO:                                                                        #\n",
        "# Напишите код, позволяющий найти лучшее значение гиперпараметров на валидационной        #\n",
        "# выборке. Для каждой комбинации гиперпараметров обучите классификатор Softmax          #\n",
        "# на train выборке, вычислите точность на выборках train, val и сохраните             #\n",
        "# результат в словарь results. Лучшее значение точности сохраните в best_val           #\n",
        "# лучший классификатор - в best_softmax                                           #\n",
        "#                                                                              #\n",
        "# Подсказка: чтобы уменьшить время обучения, используйте dev подвыборку.                #\n",
        "# После того, как код будет реализован и отлажен, замените dev на train.              #\n",
        "################################################################################\n",
        "\n",
        "\n",
        "\n",
        "# Пример допустимых значений. Можете изменить на свое усмотрение.\n",
        "learning_rates = [1e-7, 2e-6, 2.5e-6]\n",
        "regularization_strengths = [1e3, 1e4, 2e4, 2.5e4, 3e4, 3.5e4]\n",
        "\n",
        "# *****START OF YOUR CODE (DO NOT DELETE/MODIFY THIS LINE)*****\n",
        "\n",
        "grid_search = [ (lr, rg) for lr in learning_rates for rg in regularization_strengths]\n",
        "\n",
        "for lr, rg in grid_search:\n",
        "    # Create a new Softmax instance\n",
        "    softmax_model = Softmax()\n",
        "    # Train the model with current parameters\n",
        "    softmax_model.train(X_train, y_train, learning_rate=lr, reg=rg, num_iters=554)\n",
        "    # Predict values for training set\n",
        "    y_train_pred = softmax_model.predict(X_train)\n",
        "    # Calculate accuracy\n",
        "    train_accuracy = np.mean(y_train_pred == y_train)\n",
        "    # Predict values for validation set\n",
        "    y_val_pred = softmax_model.predict(X_val)\n",
        "    # Calculate accuracy\n",
        "    val_accuracy = np.mean(y_val_pred == y_val)\n",
        "    # Save results\n",
        "    results[(lr,rg)] = (train_accuracy, val_accuracy)\n",
        "    if best_val < val_accuracy:\n",
        "        best_val = val_accuracy\n",
        "        best_softmax = softmax_model\n",
        "\n",
        "# *****END OF YOUR CODE (DO NOT DELETE/MODIFY THIS LINE)*****\n",
        "    \n",
        "# Вывод результатов.\n",
        "for lr, reg in sorted(results):\n",
        "    train_accuracy, val_accuracy = results[(lr, reg)]\n",
        "    print('lr %e reg %e train accuracy: %f val accuracy: %f' % (\n",
        "                lr, reg, train_accuracy, val_accuracy))\n",
        "    \n",
        "print('best validation accuracy achieved during cross-validation: %f' % best_val)"
      ],
      "execution_count": null,
      "outputs": [
        {
          "output_type": "stream",
          "text": [
            "lr 1.000000e-07 reg 1.000000e+03 train accuracy: 0.211714 val accuracy: 0.213000\n",
            "lr 1.000000e-07 reg 1.000000e+04 train accuracy: 0.258755 val accuracy: 0.258000\n",
            "lr 1.000000e-07 reg 2.000000e+04 train accuracy: 0.305408 val accuracy: 0.335000\n",
            "lr 1.000000e-07 reg 2.500000e+04 train accuracy: 0.309041 val accuracy: 0.334000\n",
            "lr 1.000000e-07 reg 3.000000e+04 train accuracy: 0.318388 val accuracy: 0.334000\n",
            "lr 1.000000e-07 reg 3.500000e+04 train accuracy: 0.317980 val accuracy: 0.333000\n",
            "lr 2.000000e-06 reg 1.000000e+03 train accuracy: 0.386714 val accuracy: 0.390000\n",
            "lr 2.000000e-06 reg 1.000000e+04 train accuracy: 0.335061 val accuracy: 0.348000\n",
            "lr 2.000000e-06 reg 2.000000e+04 train accuracy: 0.311408 val accuracy: 0.325000\n",
            "lr 2.000000e-06 reg 2.500000e+04 train accuracy: 0.292551 val accuracy: 0.287000\n",
            "lr 2.000000e-06 reg 3.000000e+04 train accuracy: 0.292367 val accuracy: 0.296000\n",
            "lr 2.000000e-06 reg 3.500000e+04 train accuracy: 0.289265 val accuracy: 0.300000\n",
            "lr 2.500000e-06 reg 1.000000e+03 train accuracy: 0.384224 val accuracy: 0.389000\n",
            "lr 2.500000e-06 reg 1.000000e+04 train accuracy: 0.338265 val accuracy: 0.352000\n",
            "lr 2.500000e-06 reg 2.000000e+04 train accuracy: 0.313551 val accuracy: 0.312000\n",
            "lr 2.500000e-06 reg 2.500000e+04 train accuracy: 0.297082 val accuracy: 0.311000\n",
            "lr 2.500000e-06 reg 3.000000e+04 train accuracy: 0.288735 val accuracy: 0.289000\n",
            "lr 2.500000e-06 reg 3.500000e+04 train accuracy: 0.299245 val accuracy: 0.317000\n",
            "best validation accuracy achieved during cross-validation: 0.390000\n"
          ],
          "name": "stdout"
        }
      ]
    },
    {
      "cell_type": "code",
      "metadata": {
        "id": "test",
        "colab": {
          "base_uri": "https://localhost:8080/"
        },
        "outputId": "053605d0-a243-4302-a603-9ae017650f8e"
      },
      "source": [
        "# Точность на test выборке\n",
        "y_test_pred = best_softmax.predict(X_test)\n",
        "test_accuracy = np.mean(y_test == y_test_pred)\n",
        "print('softmax on raw pixels final test set accuracy: %f' % (test_accuracy, ))"
      ],
      "execution_count": null,
      "outputs": [
        {
          "output_type": "stream",
          "text": [
            "softmax on raw pixels final test set accuracy: 0.377000\n"
          ],
          "name": "stdout"
        }
      ]
    },
    {
      "cell_type": "markdown",
      "metadata": {
        "tags": [
          "pdf-inline"
        ],
        "id": "Jgb2NxHH3B8h"
      },
      "source": [
        "Вопрос 2 - Да или Нет\n",
        "\n",
        "Суммарное значение функции потерь (loss) на всей train выборке равно сумме потерь для каждого отсчета. Существует такой отсчет (изображение), который можно добавить в train выборку, при этом значение loss для SVM классификатора не изменится. Для Softmax классификатора такого отсчета не существует.\n",
        "\n",
        "Ответ:  Да\n",
        "\n",
        "Объясните: \n",
        "\n",
        "Предположим, что мы добавляем новую точку данных, которая приводит к баллам [5,4,2], а также что запас для SVM равен 1, а правильный класс равен 1, тогда потеря SVM этой точки данных будет равна 0, потому что она удовлетворяет запасу , т.е. max (0, 4 + 1 - 5) + max (0, 2 + 2 - 5) = 0. Таким образом, потери не меняются. Однако для классификатора Softmax это не тот случай, когда потери увеличиваются, то есть -log (softmax (5)) = -log (0,7) = 0,35.\n",
        "\n",
        "\n",
        "\n",
        "\n",
        "\n"
      ]
    },
    {
      "cell_type": "code",
      "metadata": {
        "id": "dSjwsFz43B8j",
        "colab": {
          "base_uri": "https://localhost:8080/",
          "height": 380
        },
        "outputId": "f9391aa6-8c6c-48e7-efdd-872db5c75759"
      },
      "source": [
        "# Визуализируем веса W для каждого класса\n",
        "w = best_softmax.W[:-1,:] # отбросим фиктивное измерение bias\n",
        "w = w.reshape(32, 32, 3, 10)\n",
        "\n",
        "w_min, w_max = np.min(w), np.max(w)\n",
        "\n",
        "classes = ['plane', 'car', 'bird', 'cat', 'deer', 'dog', 'frog', 'horse', 'ship', 'truck']\n",
        "for i in range(10):\n",
        "    plt.subplot(2, 5, i + 1)\n",
        "    \n",
        "    # Масштабируем веса в значения от 0 до 255 для визуализации\n",
        "    wimg = 255.0 * (w[:, :, :, i].squeeze() - w_min) / (w_max - w_min)\n",
        "    plt.imshow(wimg.astype('uint8'))\n",
        "    plt.axis('off')\n",
        "    plt.title(classes[i])"
      ],
      "execution_count": null,
      "outputs": [
        {
          "output_type": "display_data",
          "data": {
            "image/png": "[encoded data removed]",
            "text/plain": [
              "<Figure size 720x576 with 10 Axes>"
            ]
          },
          "metadata": {
            "tags": [],
            "needs_background": "light"
          }
        }
      ]
    },
    {
      "cell_type": "markdown",
      "metadata": {
        "id": "WtedlZbK3B8j"
      },
      "source": [
        "# ПОЗДРАВЛЯЕМ!\n",
        "\n",
        "Это конец задания. Не забудьте сохранить этот ноутбук и файл softmax.py"
      ]
    }
  ]
}